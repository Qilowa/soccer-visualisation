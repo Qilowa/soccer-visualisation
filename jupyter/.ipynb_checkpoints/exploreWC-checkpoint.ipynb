{
 "cells": [
  {
   "cell_type": "code",
   "execution_count": 71,
   "metadata": {},
   "outputs": [],
   "source": [
    "import json\n",
    "import os\n",
    "import pandas as pd\n",
    "import matplotlib.pyplot as plt"
   ]
  },
  {
   "cell_type": "code",
   "execution_count": 52,
   "metadata": {},
   "outputs": [],
   "source": [
    "PATH = os.path.join(\"..\\\\worldcup\", \"7556.json\")\n",
    "LABELS = ['id', 'index', 'period', 'timestamp', 'minute', 'second', 'type', 'possession', 'possession_team', 'play_pattern', 'off_camera', 'team', 'player', 'position', 'location', 'duration', 'under_pressure', 'related_events', 'pass']\n",
    "TO_DROP = [\"id\", 'index', 'period', 'timestamp', 'second', 'possession', 'off_camera']\n",
    "\n",
    "with open(PATH, encoding=\"utf-8\") as json_file:\n",
    "    data = json.load(json_file)"
   ]
  },
  {
   "cell_type": "code",
   "execution_count": 132,
   "metadata": {},
   "outputs": [],
   "source": [
    "def refine(dic) -> list:\n",
    "    res = []\n",
    "    for label in LABELS:\n",
    "        if label in dic.keys():\n",
    "            res.append(dic[label])\n",
    "        else:\n",
    "            res.append(None)\n",
    "    return res\n",
    "\n",
    "def clean_list(events) -> list:\n",
    "    ##### USE THIS #####\n",
    "    res = []\n",
    "    for e in events[2:]:\n",
    "        res.append(refine(e))\n",
    "    return res\n",
    "\n",
    "def clean_df(df):\n",
    "    columns=[\"type\", \"possession_team\", \"play_pattern\", \"team\", \"player\", \"position\"]\n",
    "    for c in columns:\n",
    "        df[c] = df[c].apply(lambda x : None if x is None else x[\"name\"] )\n",
    "        \n",
    "def get_df():\n",
    "    df = pd.DataFrame(clean_list(events), columns=LABELS)\n",
    "    clean_df(df)\n",
    "    df = create_data_pass(df)\n",
    "    df = df.drop(columns=TO_DROP)\n",
    "    return df\n",
    "        \n",
    "        \n",
    "def create_data_pass(passes): \n",
    "    columns = [\"recipient\", \"length\", \"angle\", \"height\", \"end_location\", \"type\", \"body_part\"]\n",
    "    for c in columns:\n",
    "        def func(x):\n",
    "            if x is None:\n",
    "                return None\n",
    "            else:\n",
    "                if c in x.keys():\n",
    "                    return x[c]\n",
    "                else:\n",
    "                    return None\n",
    "        passes[f\"{c}_pass\"] = passes[\"pass\"].apply(lambda x : func(x))\n",
    "    \n",
    "    need_refine = [\"recipient_pass\", \"height_pass\", \"type_pass\", \"body_part_pass\"]\n",
    "    for c in need_refine:\n",
    "        passes[c] = passes[c].apply(lambda x : None if x is None else x[\"name\"])\n",
    "    passes = passes.drop(columns=[\"pass\", \"related_events\"])\n",
    "    return passes\n",
    "\n",
    "def get_avg_pos(df, player):\n",
    "    interest = df.loc[(df[\"player\"] == player)]\n",
    "    avgX, avgY, n = 0, 0, 0\n",
    "    \n",
    "    for i, row in interest.iterrows():\n",
    "        if row[\"location\"] is not None:\n",
    "            location = row[\"location\"]\n",
    "            avgX += location[0]\n",
    "            avgY += location[1]\n",
    "            n += 1\n",
    "        \n",
    "    return (avgX/n, avgY/n), n\n",
    "    "
   ]
  },
  {
   "cell_type": "code",
   "execution_count": 133,
   "metadata": {},
   "outputs": [],
   "source": [
    "df = get_df()"
   ]
  },
  {
   "cell_type": "code",
   "execution_count": 134,
   "metadata": {},
   "outputs": [],
   "source": [
    "from matplotlib.patches import Arc\n",
    "\n",
    "def create_pitch():\n",
    "    #Create figure\n",
    "    fig=plt.figure()\n",
    "    fig.set_size_inches(10, 7)\n",
    "    ax=fig.add_subplot(1,1,1)\n",
    "\n",
    "    #Pitch Outline & Centre Line\n",
    "    plt.plot([0,0],[0,90], color=\"black\")\n",
    "    plt.plot([0,130],[90,90], color=\"black\")\n",
    "    plt.plot([130,130],[90,0], color=\"black\")\n",
    "    plt.plot([130,0],[0,0], color=\"black\")\n",
    "    plt.plot([65,65],[0,90], color=\"black\")\n",
    "\n",
    "    #Left Penalty Area\n",
    "    plt.plot([16.5,16.5],[65,25],color=\"black\")\n",
    "    plt.plot([0,16.5],[65,65],color=\"black\")\n",
    "    plt.plot([16.5,0],[25,25],color=\"black\")\n",
    "\n",
    "    #Right Penalty Area\n",
    "    plt.plot([130,113.5],[65,65],color=\"black\")\n",
    "    plt.plot([113.5,113.5],[65,25],color=\"black\")\n",
    "    plt.plot([113.5,130],[25,25],color=\"black\")\n",
    "\n",
    "    #Left 6-yard Box\n",
    "    plt.plot([0,5.5],[54,54],color=\"black\")\n",
    "    plt.plot([5.5,5.5],[54,36],color=\"black\")\n",
    "    plt.plot([5.5,0.5],[36,36],color=\"black\")\n",
    "\n",
    "    #Right 6-yard Box\n",
    "    plt.plot([130,124.5],[54,54],color=\"black\")\n",
    "    plt.plot([124.5,124.5],[54,36],color=\"black\")\n",
    "    plt.plot([124.5,130],[36,36],color=\"black\")\n",
    "\n",
    "    #Prepare Circles\n",
    "    centreCircle = plt.Circle((65,45),9.15,color=\"black\",fill=False)\n",
    "    centreSpot = plt.Circle((65,45),0.8,color=\"black\")\n",
    "    leftPenSpot = plt.Circle((11,45),0.8,color=\"black\")\n",
    "    rightPenSpot = plt.Circle((119,45),0.8,color=\"black\")\n",
    "\n",
    "    #Draw Circles\n",
    "    ax.add_patch(centreCircle)\n",
    "    ax.add_patch(centreSpot)\n",
    "    ax.add_patch(leftPenSpot)\n",
    "    ax.add_patch(rightPenSpot)\n",
    "\n",
    "    #Prepare Arcs\n",
    "    leftArc = Arc((11,45),height=18.3,width=18.3,angle=0,theta1=310,theta2=50,color=\"black\")\n",
    "    rightArc = Arc((119,45),height=18.3,width=18.3,angle=0,theta1=130,theta2=230,color=\"black\")\n",
    "\n",
    "    #Draw Arcs\n",
    "    ax.add_patch(leftArc)\n",
    "    ax.add_patch(rightArc)\n",
    "\n",
    "    #Tidy Axes\n",
    "    #plt.axis('off')"
   ]
  },
  {
   "cell_type": "code",
   "execution_count": 135,
   "metadata": {},
   "outputs": [
    {
     "data": {
      "image/png": "[encoded data removed]",
      "text/plain": [
       "<Figure size 720x504 with 1 Axes>"
      ]
     },
     "metadata": {
      "needs_background": "light"
     },
     "output_type": "display_data"
    }
   ],
   "source": [
    "create_pitch()\n",
    "plt.plot(avg[0], avg[1], \"o\", color=\"green\")\n",
    "plt.show()"
   ]
  },
  {
   "cell_type": "code",
   "execution_count": 150,
   "metadata": {},
   "outputs": [
    {
     "data": {
      "text/plain": [
       "{'formation': 4231,\n",
       " 'lineup': [{'player': {'id': 3175, 'name': 'Eiji Kawashima'},\n",
       "   'position': {'id': 1, 'name': 'Goalkeeper'},\n",
       "   'jersey_number': 1},\n",
       "  {'player': {'id': 3530, 'name': 'Hiroki Sakai'},\n",
       "   'position': {'id': 2, 'name': 'Right Back'},\n",
       "   'jersey_number': 19},\n",
       "  {'player': {'id': 3300, 'name': 'Maya Yoshida'},\n",
       "   'position': {'id': 3, 'name': 'Right Center Back'},\n",
       "   'jersey_number': 22},\n",
       "  {'player': {'id': 5682, 'name': 'Gen Shōji'},\n",
       "   'position': {'id': 5, 'name': 'Left Center Back'},\n",
       "   'jersey_number': 3},\n",
       "  {'player': {'id': 5690, 'name': 'Yuto Nagatomo'},\n",
       "   'position': {'id': 6, 'name': 'Left Back'},\n",
       "   'jersey_number': 5},\n",
       "  {'player': {'id': 5681, 'name': 'Makoto Hasebe'},\n",
       "   'position': {'id': 9, 'name': 'Right Defensive Midfield'},\n",
       "   'jersey_number': 17},\n",
       "  {'player': {'id': 5693, 'name': 'Gaku Shibasaki'},\n",
       "   'position': {'id': 11, 'name': 'Left Defensive Midfield'},\n",
       "   'jersey_number': 7},\n",
       "  {'player': {'id': 5697, 'name': 'Genki Haraguchi'},\n",
       "   'position': {'id': 12, 'name': 'Right Midfield'},\n",
       "   'jersey_number': 8},\n",
       "  {'player': {'id': 5687, 'name': 'Takashi Inui'},\n",
       "   'position': {'id': 16, 'name': 'Left Midfield'},\n",
       "   'jersey_number': 14},\n",
       "  {'player': {'id': 5684, 'name': 'Shinji Kagawa'},\n",
       "   'position': {'id': 19, 'name': 'Center Attacking Midfield'},\n",
       "   'jersey_number': 10},\n",
       "  {'player': {'id': 5679, 'name': 'Yūya Ōsako'},\n",
       "   'position': {'id': 23, 'name': 'Center Forward'},\n",
       "   'jersey_number': 15}]}"
      ]
     },
     "execution_count": 150,
     "metadata": {},
     "output_type": "execute_result"
    }
   ],
   "source": [
    "home = {\"formation\": compositions[0][\"tactics\"][\"formation\"], \"lineup\": compositions[0][\"tactics\"][\"lineup\"]}\n",
    "home"
   ]
  },
  {
   "cell_type": "code",
   "execution_count": 154,
   "metadata": {},
   "outputs": [
    {
     "name": "stdout",
     "output_type": "stream",
     "text": [
      "{'avg_pos': (9.161764705882353, 39.705882352941174), 'n_touch': 68, 'jersey': 1}\n",
      "{'avg_pos': (60.806451612903224, 70.98387096774194), 'n_touch': 124, 'jersey': 19}\n",
      "{'avg_pos': (40.84530386740332, 51.69613259668508), 'n_touch': 181, 'jersey': 22}\n",
      "{'avg_pos': (44.61904761904762, 20.793650793650794), 'n_touch': 189, 'jersey': 3}\n",
      "{'avg_pos': (59.04237288135593, 9.991525423728813), 'n_touch': 118, 'jersey': 5}\n",
      "{'avg_pos': (52.86190476190476, 37.48571428571429), 'n_touch': 210, 'jersey': 17}\n",
      "{'avg_pos': (55.69032258064516, 45.08387096774194), 'n_touch': 155, 'jersey': 7}\n",
      "{'avg_pos': (69.96190476190476, 59.49523809523809), 'n_touch': 105, 'jersey': 8}\n",
      "{'avg_pos': (66.84297520661157, 18.636363636363637), 'n_touch': 121, 'jersey': 14}\n",
      "{'avg_pos': (68.95138888888889, 33.84722222222222), 'n_touch': 144, 'jersey': 10}\n",
      "{'avg_pos': (78.73770491803279, 41.131147540983605), 'n_touch': 122, 'jersey': 15}\n"
     ]
    },
    {
     "data": {
      "image/png": "[encoded data removed]",
      "text/plain": [
       "<Figure size 720x504 with 1 Axes>"
      ]
     },
     "metadata": {
      "needs_background": "light"
     },
     "output_type": "display_data"
    }
   ],
   "source": [
    "def get_team_avg(df, lineup):\n",
    "    dic = dict()\n",
    "    for player in lineup[\"lineup\"]:\n",
    "        name = player[\"player\"][\"name\"]\n",
    "        jersey = player[\"jersey_number\"]\n",
    "        avg, n = get_avg_pos(df, name)\n",
    "        dic[name] = { \"avg_pos\" : avg, \"n_touch\": n, \"jersey\": jersey}\n",
    "        # plt.plot(dic[name][\"avg_pos\"][0], dic[name][\"avg_pos\"][1], \"o\", color=\"green\")\n",
    "        \n",
    "    return dic\n",
    "\n",
    "FACTOR = 3\n",
    "\n",
    "def get_scatter_info(pos):\n",
    "    x, y, n = [], [], []\n",
    "    for k, v in pos.items():\n",
    "        p = v[\"avg_pos\"]\n",
    "        x.append(p[0])\n",
    "        y.append(p[1])\n",
    "        n.append(v[\"n_touch\"] * FACTOR)\n",
    "    \n",
    "    return x, y, n\n",
    "\n",
    "def plot_avg_map(positions):\n",
    "    x, y, n = get_scatter_info(positions)\n",
    "    plt.scatter(x, y, s=n, alpha=0.5)\n",
    "    for k, v in positions.items():\n",
    "        pos = v[\"avg_pos\"]\n",
    "        plt.text(v[p, pos[1], v[])\n",
    "        \n",
    "create_pitch()\n",
    "positions = get_team_avg(df, home)\n",
    "plot_avg_map(positions)"
   ]
  },
  {
   "cell_type": "code",
   "execution_count": 138,
   "metadata": {},
   "outputs": [
    {
     "data": {
      "text/plain": [
       "{'Eiji Kawashima': {'avg_pos': (9.161764705882353, 39.705882352941174),\n",
       "  'n_touch': 68},\n",
       " 'Hiroki Sakai': {'avg_pos': (60.806451612903224, 70.98387096774194),\n",
       "  'n_touch': 124},\n",
       " 'Maya Yoshida': {'avg_pos': (40.84530386740332, 51.69613259668508),\n",
       "  'n_touch': 181},\n",
       " 'Gen Shōji': {'avg_pos': (44.61904761904762, 20.793650793650794),\n",
       "  'n_touch': 189},\n",
       " 'Yuto Nagatomo': {'avg_pos': (59.04237288135593, 9.991525423728813),\n",
       "  'n_touch': 118},\n",
       " 'Makoto Hasebe': {'avg_pos': (52.86190476190476, 37.48571428571429),\n",
       "  'n_touch': 210},\n",
       " 'Gaku Shibasaki': {'avg_pos': (55.69032258064516, 45.08387096774194),\n",
       "  'n_touch': 155},\n",
       " 'Genki Haraguchi': {'avg_pos': (69.96190476190476, 59.49523809523809),\n",
       "  'n_touch': 105},\n",
       " 'Takashi Inui': {'avg_pos': (66.84297520661157, 18.636363636363637),\n",
       "  'n_touch': 121},\n",
       " 'Shinji Kagawa': {'avg_pos': (68.95138888888889, 33.84722222222222),\n",
       "  'n_touch': 144},\n",
       " 'Yūya Ōsako': {'avg_pos': (78.73770491803279, 41.131147540983605),\n",
       "  'n_touch': 122}}"
      ]
     },
     "execution_count": 138,
     "metadata": {},
     "output_type": "execute_result"
    }
   ],
   "source": [
    "positions"
   ]
  },
  {
   "cell_type": "code",
   "execution_count": null,
   "metadata": {},
   "outputs": [],
   "source": []
  }
 ],
 "metadata": {
  "kernelspec": {
   "display_name": "Python 3",
   "language": "python",
   "name": "python3"
  },
  "language_info": {
   "codemirror_mode": {
    "name": "ipython",
    "version": 3
   },
   "file_extension": ".py",
   "mimetype": "text/x-python",
   "name": "python",
   "nbconvert_exporter": "python",
   "pygments_lexer": "ipython3",
   "version": "3.7.6"
  }
 },
 "nbformat": 4,
 "nbformat_minor": 4
}
