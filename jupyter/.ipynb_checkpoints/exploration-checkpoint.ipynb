{
 "cells": [
  {
   "cell_type": "code",
   "execution_count": 10,
   "metadata": {},
   "outputs": [],
   "source": [
    "import matplotlib.pyplot as plt\n",
    "import json\n",
    "import pandas as pd\n",
    "import os\n",
    "\n",
    "FILE = \"7298.json\"\n",
    "\n",
    "lineup_path = os.path.join(\"..\\\\open-data\\\\data\\\\lineups\", FILE)\n",
    "events_path = os.path.join(\"..\\\\open-data\\\\data\\\\events\", FILE)\n",
    "\n",
    "with open(events_path) as json_file:\n",
    "    events = json.load(json_file)\n",
    "\n",
    "with open(lineup_path) as json_file:\n",
    "    lineup = json.load(json_file)\n",
    "    \n",
    "composition = events[:2]"
   ]
  },
  {
   "cell_type": "code",
   "execution_count": 55,
   "metadata": {},
   "outputs": [],
   "source": [
    "LABELS = ['id', 'index', 'period', 'timestamp', 'minute', 'second', 'type', 'possession', 'possession_team', 'play_pattern', 'off_camera', 'team', 'player', 'position', 'location', 'duration', 'under_pressure', 'related_events', 'pass']"
   ]
  },
  {
   "cell_type": "code",
   "execution_count": 128,
   "metadata": {},
   "outputs": [],
   "source": [
    "def refine(dic) -> list:\n",
    "    res = []\n",
    "    for label in LABELS:\n",
    "        if label in dic.keys():\n",
    "            res.append(dic[label])\n",
    "        else:\n",
    "            res.append(None)\n",
    "    return res\n",
    "\n",
    "def clean_list(events) -> list:\n",
    "    ##### USE THIS #####\n",
    "    res = []\n",
    "    for e in events[2:]:\n",
    "        res.append(refine(e))\n",
    "    return res\n",
    "\n",
    "def clean_df(df):\n",
    "    columns=[\"type\", \"possession_team\", \"play_pattern\", \"team\", \"player\", \"position\"]\n",
    "    for c in columns:\n",
    "        df[c] = df[c].apply(lambda x : None if x is None else x[\"name\"] )\n",
    "        \n",
    "def create_data_pass(df):\n",
    "    passes = df.loc[lambda df : df[\"type\"] == \"pass\"]\n",
    "    passes[\"xstart\"] = passes[\"location\"].apply(lambda x : x[0])\n",
    "    passes[\"xstart\"] = passes[\"location\"].apply(lambda x : x[1])\n",
    "    \n",
    "\n",
    "    \n",
    "    #need_refine = [\"recipient\", \"height\", \"type\", \"body_part\"]\n",
    "    #for c in need_refine:\n",
    "    #    df[c] = df[c].apply(lambda x : None if x is None else x[\"name\"] )\n",
    "    \n",
    "    return passes"
   ]
  },
  {
   "cell_type": "code",
   "execution_count": 129,
   "metadata": {},
   "outputs": [],
   "source": [
    "df = pd.DataFrame(clean_list(events), columns=LABELS)\n",
    "clean_df(df)"
   ]
  },
  {
   "cell_type": "code",
   "execution_count": 130,
   "metadata": {},
   "outputs": [
    {
     "data": {
      "text/plain": [
       "{'recipient': {'id': 4659, 'name': 'Ramona Bachmann'},\n",
       " 'length': 3.6055512,\n",
       " 'angle': -0.98279375,\n",
       " 'height': {'id': 1, 'name': 'Ground Pass'},\n",
       " 'end_location': [63.0, 37.0],\n",
       " 'type': {'id': 65, 'name': 'Kick Off'},\n",
       " 'body_part': {'id': 40, 'name': 'Right Foot'}}"
      ]
     },
     "execution_count": 130,
     "metadata": {},
     "output_type": "execute_result"
    }
   ],
   "source": [
    "df.loc[2][\"pass\"]"
   ]
  },
  {
   "cell_type": "code",
   "execution_count": 131,
   "metadata": {},
   "outputs": [],
   "source": [
    "passes = create_data_pass(df)"
   ]
  },
  {
   "cell_type": "code",
   "execution_count": 132,
   "metadata": {},
   "outputs": [
    {
     "data": {
      "text/html": [
       "<div>\n",
       "<style scoped>\n",
       "    .dataframe tbody tr th:only-of-type {\n",
       "        vertical-align: middle;\n",
       "    }\n",
       "\n",
       "    .dataframe tbody tr th {\n",
       "        vertical-align: top;\n",
       "    }\n",
       "\n",
       "    .dataframe thead th {\n",
       "        text-align: right;\n",
       "    }\n",
       "</style>\n",
       "<table border=\"1\" class=\"dataframe\">\n",
       "  <thead>\n",
       "    <tr style=\"text-align: right;\">\n",
       "      <th></th>\n",
       "      <th>id</th>\n",
       "      <th>index</th>\n",
       "      <th>period</th>\n",
       "      <th>timestamp</th>\n",
       "      <th>minute</th>\n",
       "      <th>second</th>\n",
       "      <th>type</th>\n",
       "      <th>possession</th>\n",
       "      <th>possession_team</th>\n",
       "      <th>play_pattern</th>\n",
       "      <th>...</th>\n",
       "      <th>under_pressure</th>\n",
       "      <th>related_events</th>\n",
       "      <th>pass</th>\n",
       "      <th>xstart</th>\n",
       "      <th>recipient</th>\n",
       "      <th>length</th>\n",
       "      <th>angle</th>\n",
       "      <th>height</th>\n",
       "      <th>end_location</th>\n",
       "      <th>body_part</th>\n",
       "    </tr>\n",
       "  </thead>\n",
       "  <tbody>\n",
       "  </tbody>\n",
       "</table>\n",
       "<p>0 rows × 26 columns</p>\n",
       "</div>"
      ],
      "text/plain": [
       "Empty DataFrame\n",
       "Columns: [id, index, period, timestamp, minute, second, type, possession, possession_team, play_pattern, off_camera, team, player, position, location, duration, under_pressure, related_events, pass, xstart, recipient, length, angle, height, end_location, body_part]\n",
       "Index: []\n",
       "\n",
       "[0 rows x 26 columns]"
      ]
     },
     "execution_count": 132,
     "metadata": {},
     "output_type": "execute_result"
    }
   ],
   "source": [
    "passes.head()"
   ]
  },
  {
   "cell_type": "code",
   "execution_count": null,
   "metadata": {},
   "outputs": [],
   "source": []
  }
 ],
 "metadata": {
  "kernelspec": {
   "display_name": "Python 3",
   "language": "python",
   "name": "python3"
  },
  "language_info": {
   "codemirror_mode": {
    "name": "ipython",
    "version": 3
   },
   "file_extension": ".py",
   "mimetype": "text/x-python",
   "name": "python",
   "nbconvert_exporter": "python",
   "pygments_lexer": "ipython3",
   "version": "3.7.6"
  }
 },
 "nbformat": 4,
 "nbformat_minor": 4
}
